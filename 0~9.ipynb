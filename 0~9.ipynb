{
 "cells": [
  {
   "cell_type": "markdown",
   "id": "29580b13",
   "metadata": {},
   "source": [
    "## 0"
   ]
  },
  {
   "cell_type": "code",
   "execution_count": 37,
   "id": "34c53640",
   "metadata": {
    "scrolled": true
   },
   "outputs": [
    {
     "name": "stdout",
     "output_type": "stream",
     "text": [
      "desserts\n"
     ]
    }
   ],
   "source": [
    "a = \"stressed\"\n",
    "a_reversed = a[::-1]\n",
    "print(a_reversed)"
   ]
  },
  {
   "cell_type": "markdown",
   "id": "24fedad2",
   "metadata": {},
   "source": [
    "## 1"
   ]
  },
  {
   "cell_type": "code",
   "execution_count": 38,
   "id": "8113dd32",
   "metadata": {},
   "outputs": [
    {
     "name": "stdout",
     "output_type": "stream",
     "text": [
      "パトカー\n"
     ]
    }
   ],
   "source": [
    "a = \"パタトクカシーー\"\n",
    "a_slice = a[::2]\n",
    "print(a_slice)"
   ]
  },
  {
   "cell_type": "markdown",
   "id": "d97f5557",
   "metadata": {},
   "source": [
    "## 2"
   ]
  },
  {
   "cell_type": "code",
   "execution_count": 33,
   "id": "f5f778b2",
   "metadata": {},
   "outputs": [
    {
     "name": "stdout",
     "output_type": "stream",
     "text": [
      "パタトクカシーー\n"
     ]
    }
   ],
   "source": [
    "t1 = \"パトカー\"\n",
    "t2 = \"タクシー\"\n",
    "t3 = []\n",
    "\n",
    "for i in range(4):\n",
    "    total = t1[i]+ t2[i]\n",
    "    t3.append(total)\n",
    "result = \"\".join(t3)\n",
    "print(result)"
   ]
  },
  {
   "cell_type": "markdown",
   "id": "0bb8b1fe",
   "metadata": {},
   "source": [
    "## 3"
   ]
  },
  {
   "cell_type": "code",
   "execution_count": 40,
   "id": "f5a16733",
   "metadata": {},
   "outputs": [
    {
     "name": "stdout",
     "output_type": "stream",
     "text": [
      "[3, 1, 4, 1, 5, 9, 2, 6, 5, 3, 5, 8, 9, 7, 9]\n"
     ]
    }
   ],
   "source": [
    "a = \"Now I need a drink, alcoholic of course, after the heavy lectures involving quantum mechanics.\"\n",
    "a = a.replace(\",\",\"\").replace(\".\",\"\")\n",
    "result = []\n",
    "b = a.split()\n",
    "for i in b:\n",
    "    result.append(len(i))\n",
    "print(result)"
   ]
  },
  {
   "cell_type": "markdown",
   "id": "96d883f6",
   "metadata": {},
   "source": [
    "## 4"
   ]
  },
  {
   "cell_type": "code",
   "execution_count": 41,
   "id": "b6206511",
   "metadata": {},
   "outputs": [
    {
     "name": "stdout",
     "output_type": "stream",
     "text": [
      "{1: 'H', 2: 'He', 3: 'Li', 4: 'Be', 5: 'B', 6: 'C', 7: 'N', 8: 'O', 9: 'F', 10: 'Ne', 11: 'Na', 12: 'Mi', 13: 'Al', 14: 'Si', 15: 'P', 16: 'S', 17: 'Cl', 18: 'Ar', 19: 'K', 20: 'Ca'}\n"
     ]
    }
   ],
   "source": [
    "a = \"Hi He Lied Because Boron Could Not Oxidize Fluorine. New Nations Might Also Sign Peace Security Clause. Arthur King Can.\"\n",
    "a = a.replace(\",\",\"\").replace(\".\",\"\")\n",
    "a = a.split()\n",
    "b = {1, 5, 6, 7, 8, 9, 15, 16, 19}\n",
    "result = {}\n",
    "for  i , name in enumerate(a , 1):\n",
    "    if i in b:\n",
    "        c = name[0]\n",
    "        result [i]= c\n",
    "    else:\n",
    "        d = name[:2]\n",
    "        result [i]= d\n",
    "print(result)"
   ]
  },
  {
   "cell_type": "markdown",
   "id": "e80f592c",
   "metadata": {},
   "source": [
    "## 5"
   ]
  },
  {
   "cell_type": "code",
   "execution_count": 42,
   "id": "c947e648",
   "metadata": {},
   "outputs": [
    {
     "name": "stdout",
     "output_type": "stream",
     "text": [
      "['Ia', 'am', 'ma', 'an', 'nN', 'NL', 'LP', 'Pe', 'er', 'r']\n",
      "[['I', 'am'], ['am', 'an'], ['an', 'NLPer'], ['NLPer']]\n"
     ]
    }
   ],
   "source": [
    "def N_gram(n: int, text: str):\n",
    "    letter_bi_gram = text.replace(\" \", \"\")\n",
    "    word_bi_gram = text.split(\" \")\n",
    "    letter_bi_gram_list = []\n",
    "    word_bi_gram_list = []\n",
    "    for lt in range(len(letter_bi_gram)):\n",
    "        letter_bi_gram_list.append(letter_bi_gram[lt:n+lt])\n",
    "    for wd in range(len(word_bi_gram)):\n",
    "        word_bi_gram_list.append(word_bi_gram[wd:n+wd])\n",
    "    return letter_bi_gram_list, word_bi_gram_list\n",
    "\n",
    "l, w = N_gram(2, \"I am an NLPer\")\n",
    "print(l)\n",
    "print(w)\n",
    "\n"
   ]
  },
  {
   "cell_type": "markdown",
   "id": "0fc58023",
   "metadata": {},
   "source": [
    "## 6"
   ]
  },
  {
   "cell_type": "code",
   "execution_count": 43,
   "id": "8b443b0f",
   "metadata": {},
   "outputs": [
    {
     "name": "stdout",
     "output_type": "stream",
     "text": [
      "0で割ることはできません。\n"
     ]
    }
   ],
   "source": [
    "def divide(x, y):\n",
    "    if y == 0:\n",
    "        raise ValueError(\"0で割ることはできません。\")\n",
    "    return x / y\n",
    "\n",
    "try:\n",
    "    result = divide(10, 0)\n",
    "except ValueError as e:\n",
    "    print(e)"
   ]
  },
  {
   "cell_type": "markdown",
   "id": "5c8e4b9c",
   "metadata": {},
   "source": [
    "## 7"
   ]
  },
  {
   "cell_type": "code",
   "execution_count": 44,
   "id": "8d6b9bbc",
   "metadata": {},
   "outputs": [
    {
     "name": "stdout",
     "output_type": "stream",
     "text": [
      "12時の気温は22.4\n"
     ]
    }
   ],
   "source": [
    "def main (x, y, z):\n",
    "    a = str(x) + \"時の\" +str(y) + \"は\" + str(z)\n",
    "    return a\n",
    "\n",
    "result = main(12, \"気温\", 22.4)\n",
    "print(result)"
   ]
  },
  {
   "cell_type": "markdown",
   "id": "d166fc09",
   "metadata": {},
   "source": [
    "## 8"
   ]
  },
  {
   "cell_type": "code",
   "execution_count": 52,
   "id": "792c2e49",
   "metadata": {},
   "outputs": [
    {
     "name": "stdout",
     "output_type": "stream",
     "text": [
      "暗号化：Bzhv Bzoo\n",
      "復号化：Base Ball\n"
     ]
    }
   ],
   "source": [
    "text = \"Base Ball\"\n",
    " \n",
    "def cipher(w):\n",
    "    pre_result = []\n",
    "    for i in w:\n",
    "        if i.islower():\n",
    "            i = chr(219 - ord(i))\n",
    "        pre_result.append(i)\n",
    "    return \"\".join(pre_result)\n",
    " \n",
    "result = cipher(text)\n",
    " \n",
    "print(\"暗号化：\" + result)\n",
    "print(\"復号化：\" + cipher(result))"
   ]
  },
  {
   "cell_type": "markdown",
   "id": "dcdc7827",
   "metadata": {},
   "source": [
    "## 9"
   ]
  },
  {
   "cell_type": "code",
   "execution_count": 99,
   "id": "1628125f",
   "metadata": {},
   "outputs": [
    {
     "name": "stdout",
     "output_type": "stream",
     "text": [
      "I couldn’t believe that I could actually understand what I was reading  the phenomenal power of the human mind .\n",
      "['I', 'couldn’t', 'believe', 'that', 'I', 'could', 'actually', 'understand', 'what', 'I', 'was', 'reading', 'the', 'phenomenal', 'power', 'of', 'the', 'human', 'mind', '.']\n",
      "I co’dulnt blveiee that I could atcullay udasternnd what I was raeding the phemneoanl pweor of the huamn mind .\n"
     ]
    }
   ],
   "source": [
    "import random\n",
    "theme_sentence = \"I couldn’t believe that I could actually understand what I was reading : the phenomenal power of the human mind .\"\n",
    "result =[]\n",
    "theme_sentence = theme_sentence.replace(\":\",\"\")\n",
    "print(theme_sentence)\n",
    "theme_sentence_list = theme_sentence.split()\n",
    "print(theme_sentence_list)\n",
    "for word in theme_sentence_list:\n",
    "    if len(word) <= 4:\n",
    "        result.append(word)\n",
    "    else:\n",
    "        words_four_or_more = list(word[1:-1])\n",
    "        random.shuffle(words_four_or_more)\n",
    "        random_join = word[0] + \"\".join(words_four_or_more) + word[-1]\n",
    "        result.append(random_join)\n",
    "answer = \" \".join(result)\n",
    "print(answer)"
   ]
  },
  {
   "cell_type": "code",
   "execution_count": null,
   "id": "805559ad",
   "metadata": {},
   "outputs": [],
   "source": []
  }
 ],
 "metadata": {
  "kernelspec": {
   "display_name": "Python 3 (ipykernel)",
   "language": "python",
   "name": "python3"
  },
  "language_info": {
   "codemirror_mode": {
    "name": "ipython",
    "version": 3
   },
   "file_extension": ".py",
   "mimetype": "text/x-python",
   "name": "python",
   "nbconvert_exporter": "python",
   "pygments_lexer": "ipython3",
   "version": "3.10.3"
  }
 },
 "nbformat": 4,
 "nbformat_minor": 5
}
