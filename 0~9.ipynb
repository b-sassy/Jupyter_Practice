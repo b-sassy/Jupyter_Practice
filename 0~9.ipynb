{
 "cells": [
  {
   "cell_type": "markdown",
   "id": "29580b13",
   "metadata": {},
   "source": [
    "## 0"
   ]
  },
  {
   "cell_type": "code",
   "execution_count": 15,
   "id": "34c53640",
   "metadata": {
    "scrolled": true
   },
   "outputs": [
    {
     "name": "stdout",
     "output_type": "stream",
     "text": [
      "desserts\n"
     ]
    }
   ],
   "source": [
    "a = \"stressed\"\n",
    "a_reversed = a[::-1]\n",
    "print(a_reversed)"
   ]
  },
  {
   "cell_type": "markdown",
   "id": "24fedad2",
   "metadata": {},
   "source": [
    "## 1"
   ]
  },
  {
   "cell_type": "code",
   "execution_count": 16,
   "id": "8113dd32",
   "metadata": {},
   "outputs": [
    {
     "name": "stdout",
     "output_type": "stream",
     "text": [
      "パトカー\n"
     ]
    }
   ],
   "source": [
    "a = \"パタトクカシーー\"\n",
    "a_slice = b[::2]\n",
    "print(b_slice)"
   ]
  },
  {
   "cell_type": "markdown",
   "id": "d97f5557",
   "metadata": {},
   "source": [
    "## 2"
   ]
  },
  {
   "cell_type": "code",
   "execution_count": 17,
   "id": "77cbd97e",
   "metadata": {},
   "outputs": [
    {
     "name": "stdout",
     "output_type": "stream",
     "text": [
      "パタトクカシーー\n"
     ]
    }
   ],
   "source": [
    "a = \"パトカー\"\n",
    "b = \"タクシー\"\n",
    "\n",
    "c = a[0] + b [0]\n",
    "d = a[1] + b [1]\n",
    "e = a[2] + b [2]\n",
    "f = a[3] + b[3]\n",
    "\n",
    "g = c + d + e + f\n",
    "\n",
    "print(i)"
   ]
  },
  {
   "cell_type": "markdown",
   "id": "0bb8b1fe",
   "metadata": {},
   "source": [
    "## 3"
   ]
  },
  {
   "cell_type": "code",
   "execution_count": 36,
   "id": "f5a16733",
   "metadata": {},
   "outputs": [
    {
     "name": "stdout",
     "output_type": "stream",
     "text": [
      "[3, 1, 4, 1, 5, 9, 2, 6, 5, 3, 5, 8, 9, 7, 9]\n"
     ]
    }
   ],
   "source": [
    "a = \"Now I need a drink, alcoholic of course, after the heavy lectures involving quantum mechanics.\"\n",
    "a = a.replace(\",\",\"\").replace(\".\",\"\")\n",
    "result = []\n",
    "b = a.split()\n",
    "for i in b:\n",
    "    result.append(len(i))\n",
    "print(result)"
   ]
  },
  {
   "cell_type": "markdown",
   "id": "96d883f6",
   "metadata": {},
   "source": [
    "## 4"
   ]
  },
  {
   "cell_type": "code",
   "execution_count": 14,
   "id": "b6206511",
   "metadata": {},
   "outputs": [
    {
     "name": "stdout",
     "output_type": "stream",
     "text": [
      "{1: 'H', 2: 'He', 3: 'Li', 4: 'Be', 5: 'B', 6: 'C', 7: 'N', 8: 'O', 9: 'F', 10: 'Ne', 11: 'Na', 12: 'Mi', 13: 'Al', 14: 'Si', 15: 'P', 16: 'S', 17: 'Cl', 18: 'Ar', 19: 'K', 20: 'Ca'}\n"
     ]
    }
   ],
   "source": [
    "a = \"Hi He Lied Because Boron Could Not Oxidize Fluorine. New Nations Might Also Sign Peace Security Clause. Arthur King Can.\"\n",
    "a = a.replace(\",\",\"\").replace(\".\",\"\")\n",
    "a = a.split()\n",
    "b = {1, 5, 6, 7, 8, 9, 15, 16, 19}\n",
    "result = {}\n",
    "for  i , name in enumerate(a , 1):\n",
    "    if i in b:\n",
    "        c = name[0]\n",
    "        result [i]= c\n",
    "    else:\n",
    "        d = name[:2]\n",
    "        result [i]= d\n",
    "print(result)"
   ]
  },
  {
   "cell_type": "markdown",
   "id": "9997aeb2",
   "metadata": {},
   "source": [
    "## 5"
   ]
  },
  {
   "cell_type": "code",
   "execution_count": null,
   "id": "087b353c",
   "metadata": {},
   "outputs": [],
   "source": []
  },
  {
   "cell_type": "markdown",
   "id": "2b08397d",
   "metadata": {},
   "source": [
    "## 6"
   ]
  },
  {
   "cell_type": "code",
   "execution_count": null,
   "id": "365f313b",
   "metadata": {},
   "outputs": [],
   "source": []
  },
  {
   "cell_type": "markdown",
   "id": "6ee5c866",
   "metadata": {},
   "source": [
    "## 7"
   ]
  },
  {
   "cell_type": "code",
   "execution_count": 19,
   "id": "aeef5953",
   "metadata": {},
   "outputs": [
    {
     "name": "stdout",
     "output_type": "stream",
     "text": [
      "12時の気温は22.4\n"
     ]
    }
   ],
   "source": [
    "def main (x, y, z):\n",
    "    a = str(x) + \"時の\" +str(y) + \"は\" + str(z)\n",
    "    return a\n",
    "\n",
    "result = main(12, \"気温\", 22.4)\n",
    "print(result)"
   ]
  },
  {
   "cell_type": "markdown",
   "id": "097c6fe8",
   "metadata": {},
   "source": [
    "## 8"
   ]
  },
  {
   "cell_type": "code",
   "execution_count": null,
   "id": "fca92b1b",
   "metadata": {},
   "outputs": [],
   "source": []
  },
  {
   "cell_type": "markdown",
   "id": "4f55f7f2",
   "metadata": {},
   "source": [
    "## 9"
   ]
  },
  {
   "cell_type": "code",
   "execution_count": null,
   "id": "1744b36d",
   "metadata": {},
   "outputs": [],
   "source": []
  }
 ],
 "metadata": {
  "kernelspec": {
   "display_name": "Python 3 (ipykernel)",
   "language": "python",
   "name": "python3"
  },
  "language_info": {
   "codemirror_mode": {
    "name": "ipython",
    "version": 3
   },
   "file_extension": ".py",
   "mimetype": "text/x-python",
   "name": "python",
   "nbconvert_exporter": "python",
   "pygments_lexer": "ipython3",
   "version": "3.11.4"
  }
 },
 "nbformat": 4,
 "nbformat_minor": 5
}
